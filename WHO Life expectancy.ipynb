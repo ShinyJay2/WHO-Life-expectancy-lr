{
 "cells": [
  {
   "cell_type": "code",
   "execution_count": 40,
   "id": "956c3c34",
   "metadata": {},
   "outputs": [],
   "source": [
    "import pandas as pd"
   ]
  },
  {
   "cell_type": "code",
   "execution_count": 41,
   "id": "3df951da",
   "metadata": {},
   "outputs": [
    {
     "data": {
      "text/plain": [
       "(2938, 22)"
      ]
     },
     "execution_count": 41,
     "metadata": {},
     "output_type": "execute_result"
    }
   ],
   "source": [
    "who = pd.read_csv(\"C:/Users/User/Desktop/WHO/Life Expectancy Data.csv\")\n",
    "who.shape"
   ]
  },
  {
   "cell_type": "code",
   "execution_count": 42,
   "id": "72c1cec7",
   "metadata": {},
   "outputs": [
    {
     "data": {
      "text/plain": [
       "(1649, 22)"
      ]
     },
     "execution_count": 42,
     "metadata": {},
     "output_type": "execute_result"
    }
   ],
   "source": [
    "who = who.dropna()\n",
    "who.shape"
   ]
  },
  {
   "cell_type": "code",
   "execution_count": 43,
   "id": "48e49086",
   "metadata": {},
   "outputs": [
    {
     "data": {
      "text/html": [
       "<div>\n",
       "<style scoped>\n",
       "    .dataframe tbody tr th:only-of-type {\n",
       "        vertical-align: middle;\n",
       "    }\n",
       "\n",
       "    .dataframe tbody tr th {\n",
       "        vertical-align: top;\n",
       "    }\n",
       "\n",
       "    .dataframe thead th {\n",
       "        text-align: right;\n",
       "    }\n",
       "</style>\n",
       "<table border=\"1\" class=\"dataframe\">\n",
       "  <thead>\n",
       "    <tr style=\"text-align: right;\">\n",
       "      <th></th>\n",
       "      <th>Country</th>\n",
       "      <th>Year</th>\n",
       "      <th>Status</th>\n",
       "      <th>Life expectancy</th>\n",
       "      <th>Adult Mortality</th>\n",
       "      <th>infant deaths</th>\n",
       "      <th>Alcohol</th>\n",
       "      <th>percentage expenditure</th>\n",
       "      <th>Hepatitis B</th>\n",
       "      <th>Measles</th>\n",
       "      <th>...</th>\n",
       "      <th>Polio</th>\n",
       "      <th>Total expenditure</th>\n",
       "      <th>Diphtheria</th>\n",
       "      <th>HIV/AIDS</th>\n",
       "      <th>GDP</th>\n",
       "      <th>Population</th>\n",
       "      <th>thinness  1-19 years</th>\n",
       "      <th>thinness 5-9 years</th>\n",
       "      <th>Income composition of resources</th>\n",
       "      <th>Schooling</th>\n",
       "    </tr>\n",
       "  </thead>\n",
       "  <tbody>\n",
       "    <tr>\n",
       "      <th>0</th>\n",
       "      <td>Afghanistan</td>\n",
       "      <td>2015</td>\n",
       "      <td>Developing</td>\n",
       "      <td>65.0</td>\n",
       "      <td>263.0</td>\n",
       "      <td>62</td>\n",
       "      <td>0.01</td>\n",
       "      <td>71.279624</td>\n",
       "      <td>65.0</td>\n",
       "      <td>1154</td>\n",
       "      <td>...</td>\n",
       "      <td>6.0</td>\n",
       "      <td>8.16</td>\n",
       "      <td>65.0</td>\n",
       "      <td>0.1</td>\n",
       "      <td>584.259210</td>\n",
       "      <td>33736494.0</td>\n",
       "      <td>17.2</td>\n",
       "      <td>17.3</td>\n",
       "      <td>0.479</td>\n",
       "      <td>10.1</td>\n",
       "    </tr>\n",
       "    <tr>\n",
       "      <th>1</th>\n",
       "      <td>Afghanistan</td>\n",
       "      <td>2014</td>\n",
       "      <td>Developing</td>\n",
       "      <td>59.9</td>\n",
       "      <td>271.0</td>\n",
       "      <td>64</td>\n",
       "      <td>0.01</td>\n",
       "      <td>73.523582</td>\n",
       "      <td>62.0</td>\n",
       "      <td>492</td>\n",
       "      <td>...</td>\n",
       "      <td>58.0</td>\n",
       "      <td>8.18</td>\n",
       "      <td>62.0</td>\n",
       "      <td>0.1</td>\n",
       "      <td>612.696514</td>\n",
       "      <td>327582.0</td>\n",
       "      <td>17.5</td>\n",
       "      <td>17.5</td>\n",
       "      <td>0.476</td>\n",
       "      <td>10.0</td>\n",
       "    </tr>\n",
       "    <tr>\n",
       "      <th>2</th>\n",
       "      <td>Afghanistan</td>\n",
       "      <td>2013</td>\n",
       "      <td>Developing</td>\n",
       "      <td>59.9</td>\n",
       "      <td>268.0</td>\n",
       "      <td>66</td>\n",
       "      <td>0.01</td>\n",
       "      <td>73.219243</td>\n",
       "      <td>64.0</td>\n",
       "      <td>430</td>\n",
       "      <td>...</td>\n",
       "      <td>62.0</td>\n",
       "      <td>8.13</td>\n",
       "      <td>64.0</td>\n",
       "      <td>0.1</td>\n",
       "      <td>631.744976</td>\n",
       "      <td>31731688.0</td>\n",
       "      <td>17.7</td>\n",
       "      <td>17.7</td>\n",
       "      <td>0.470</td>\n",
       "      <td>9.9</td>\n",
       "    </tr>\n",
       "    <tr>\n",
       "      <th>3</th>\n",
       "      <td>Afghanistan</td>\n",
       "      <td>2012</td>\n",
       "      <td>Developing</td>\n",
       "      <td>59.5</td>\n",
       "      <td>272.0</td>\n",
       "      <td>69</td>\n",
       "      <td>0.01</td>\n",
       "      <td>78.184215</td>\n",
       "      <td>67.0</td>\n",
       "      <td>2787</td>\n",
       "      <td>...</td>\n",
       "      <td>67.0</td>\n",
       "      <td>8.52</td>\n",
       "      <td>67.0</td>\n",
       "      <td>0.1</td>\n",
       "      <td>669.959000</td>\n",
       "      <td>3696958.0</td>\n",
       "      <td>17.9</td>\n",
       "      <td>18.0</td>\n",
       "      <td>0.463</td>\n",
       "      <td>9.8</td>\n",
       "    </tr>\n",
       "    <tr>\n",
       "      <th>4</th>\n",
       "      <td>Afghanistan</td>\n",
       "      <td>2011</td>\n",
       "      <td>Developing</td>\n",
       "      <td>59.2</td>\n",
       "      <td>275.0</td>\n",
       "      <td>71</td>\n",
       "      <td>0.01</td>\n",
       "      <td>7.097109</td>\n",
       "      <td>68.0</td>\n",
       "      <td>3013</td>\n",
       "      <td>...</td>\n",
       "      <td>68.0</td>\n",
       "      <td>7.87</td>\n",
       "      <td>68.0</td>\n",
       "      <td>0.1</td>\n",
       "      <td>63.537231</td>\n",
       "      <td>2978599.0</td>\n",
       "      <td>18.2</td>\n",
       "      <td>18.2</td>\n",
       "      <td>0.454</td>\n",
       "      <td>9.5</td>\n",
       "    </tr>\n",
       "  </tbody>\n",
       "</table>\n",
       "<p>5 rows × 22 columns</p>\n",
       "</div>"
      ],
      "text/plain": [
       "       Country  Year      Status  Life expectancy   Adult Mortality  \\\n",
       "0  Afghanistan  2015  Developing              65.0            263.0   \n",
       "1  Afghanistan  2014  Developing              59.9            271.0   \n",
       "2  Afghanistan  2013  Developing              59.9            268.0   \n",
       "3  Afghanistan  2012  Developing              59.5            272.0   \n",
       "4  Afghanistan  2011  Developing              59.2            275.0   \n",
       "\n",
       "   infant deaths  Alcohol  percentage expenditure  Hepatitis B  Measles   ...  \\\n",
       "0             62     0.01               71.279624         65.0      1154  ...   \n",
       "1             64     0.01               73.523582         62.0       492  ...   \n",
       "2             66     0.01               73.219243         64.0       430  ...   \n",
       "3             69     0.01               78.184215         67.0      2787  ...   \n",
       "4             71     0.01                7.097109         68.0      3013  ...   \n",
       "\n",
       "   Polio  Total expenditure  Diphtheria    HIV/AIDS         GDP  Population  \\\n",
       "0    6.0               8.16         65.0        0.1  584.259210  33736494.0   \n",
       "1   58.0               8.18         62.0        0.1  612.696514    327582.0   \n",
       "2   62.0               8.13         64.0        0.1  631.744976  31731688.0   \n",
       "3   67.0               8.52         67.0        0.1  669.959000   3696958.0   \n",
       "4   68.0               7.87         68.0        0.1   63.537231   2978599.0   \n",
       "\n",
       "    thinness  1-19 years   thinness 5-9 years  \\\n",
       "0                   17.2                 17.3   \n",
       "1                   17.5                 17.5   \n",
       "2                   17.7                 17.7   \n",
       "3                   17.9                 18.0   \n",
       "4                   18.2                 18.2   \n",
       "\n",
       "   Income composition of resources  Schooling  \n",
       "0                            0.479       10.1  \n",
       "1                            0.476       10.0  \n",
       "2                            0.470        9.9  \n",
       "3                            0.463        9.8  \n",
       "4                            0.454        9.5  \n",
       "\n",
       "[5 rows x 22 columns]"
      ]
     },
     "execution_count": 43,
     "metadata": {},
     "output_type": "execute_result"
    }
   ],
   "source": [
    "who.head()"
   ]
  },
  {
   "cell_type": "code",
   "execution_count": 44,
   "id": "d74d4f20",
   "metadata": {},
   "outputs": [],
   "source": [
    "from sklearn.linear_model import LinearRegression \n",
    "from sklearn.model_selection import train_test_split"
   ]
  },
  {
   "cell_type": "code",
   "execution_count": 45,
   "id": "85c77ebc",
   "metadata": {
    "scrolled": true
   },
   "outputs": [
    {
     "data": {
      "text/plain": [
       "Index(['Country', 'Year', 'Status', 'Life expectancy ', 'Adult Mortality',\n",
       "       'infant deaths', 'Alcohol', 'percentage expenditure', 'Hepatitis B',\n",
       "       'Measles ', ' BMI ', 'under-five deaths ', 'Polio', 'Total expenditure',\n",
       "       'Diphtheria ', ' HIV/AIDS', 'GDP', 'Population',\n",
       "       ' thinness  1-19 years', ' thinness 5-9 years',\n",
       "       'Income composition of resources', 'Schooling'],\n",
       "      dtype='object')"
      ]
     },
     "execution_count": 45,
     "metadata": {},
     "output_type": "execute_result"
    }
   ],
   "source": [
    "who.columns"
   ]
  },
  {
   "cell_type": "code",
   "execution_count": 53,
   "id": "048a2f04",
   "metadata": {},
   "outputs": [
    {
     "data": {
      "text/html": [
       "<div>\n",
       "<style scoped>\n",
       "    .dataframe tbody tr th:only-of-type {\n",
       "        vertical-align: middle;\n",
       "    }\n",
       "\n",
       "    .dataframe tbody tr th {\n",
       "        vertical-align: top;\n",
       "    }\n",
       "\n",
       "    .dataframe thead th {\n",
       "        text-align: right;\n",
       "    }\n",
       "</style>\n",
       "<table border=\"1\" class=\"dataframe\">\n",
       "  <thead>\n",
       "    <tr style=\"text-align: right;\">\n",
       "      <th></th>\n",
       "      <th>Year</th>\n",
       "      <th>Life expectancy</th>\n",
       "      <th>Adult Mortality</th>\n",
       "      <th>infant deaths</th>\n",
       "      <th>Alcohol</th>\n",
       "      <th>percentage expenditure</th>\n",
       "      <th>Hepatitis B</th>\n",
       "      <th>Measles</th>\n",
       "      <th>BMI</th>\n",
       "      <th>under-five deaths</th>\n",
       "      <th>Polio</th>\n",
       "      <th>Total expenditure</th>\n",
       "      <th>Diphtheria</th>\n",
       "      <th>HIV/AIDS</th>\n",
       "      <th>GDP</th>\n",
       "      <th>Population</th>\n",
       "      <th>thinness  1-19 years</th>\n",
       "      <th>thinness 5-9 years</th>\n",
       "      <th>Income composition of resources</th>\n",
       "      <th>Schooling</th>\n",
       "    </tr>\n",
       "  </thead>\n",
       "  <tbody>\n",
       "    <tr>\n",
       "      <th>0</th>\n",
       "      <td>2015</td>\n",
       "      <td>65.0</td>\n",
       "      <td>263.0</td>\n",
       "      <td>62</td>\n",
       "      <td>0.01</td>\n",
       "      <td>71.279624</td>\n",
       "      <td>65.0</td>\n",
       "      <td>1154</td>\n",
       "      <td>19.1</td>\n",
       "      <td>83</td>\n",
       "      <td>6.0</td>\n",
       "      <td>8.16</td>\n",
       "      <td>65.0</td>\n",
       "      <td>0.1</td>\n",
       "      <td>584.259210</td>\n",
       "      <td>33736494.0</td>\n",
       "      <td>17.2</td>\n",
       "      <td>17.3</td>\n",
       "      <td>0.479</td>\n",
       "      <td>10.1</td>\n",
       "    </tr>\n",
       "    <tr>\n",
       "      <th>1</th>\n",
       "      <td>2014</td>\n",
       "      <td>59.9</td>\n",
       "      <td>271.0</td>\n",
       "      <td>64</td>\n",
       "      <td>0.01</td>\n",
       "      <td>73.523582</td>\n",
       "      <td>62.0</td>\n",
       "      <td>492</td>\n",
       "      <td>18.6</td>\n",
       "      <td>86</td>\n",
       "      <td>58.0</td>\n",
       "      <td>8.18</td>\n",
       "      <td>62.0</td>\n",
       "      <td>0.1</td>\n",
       "      <td>612.696514</td>\n",
       "      <td>327582.0</td>\n",
       "      <td>17.5</td>\n",
       "      <td>17.5</td>\n",
       "      <td>0.476</td>\n",
       "      <td>10.0</td>\n",
       "    </tr>\n",
       "    <tr>\n",
       "      <th>2</th>\n",
       "      <td>2013</td>\n",
       "      <td>59.9</td>\n",
       "      <td>268.0</td>\n",
       "      <td>66</td>\n",
       "      <td>0.01</td>\n",
       "      <td>73.219243</td>\n",
       "      <td>64.0</td>\n",
       "      <td>430</td>\n",
       "      <td>18.1</td>\n",
       "      <td>89</td>\n",
       "      <td>62.0</td>\n",
       "      <td>8.13</td>\n",
       "      <td>64.0</td>\n",
       "      <td>0.1</td>\n",
       "      <td>631.744976</td>\n",
       "      <td>31731688.0</td>\n",
       "      <td>17.7</td>\n",
       "      <td>17.7</td>\n",
       "      <td>0.470</td>\n",
       "      <td>9.9</td>\n",
       "    </tr>\n",
       "    <tr>\n",
       "      <th>3</th>\n",
       "      <td>2012</td>\n",
       "      <td>59.5</td>\n",
       "      <td>272.0</td>\n",
       "      <td>69</td>\n",
       "      <td>0.01</td>\n",
       "      <td>78.184215</td>\n",
       "      <td>67.0</td>\n",
       "      <td>2787</td>\n",
       "      <td>17.6</td>\n",
       "      <td>93</td>\n",
       "      <td>67.0</td>\n",
       "      <td>8.52</td>\n",
       "      <td>67.0</td>\n",
       "      <td>0.1</td>\n",
       "      <td>669.959000</td>\n",
       "      <td>3696958.0</td>\n",
       "      <td>17.9</td>\n",
       "      <td>18.0</td>\n",
       "      <td>0.463</td>\n",
       "      <td>9.8</td>\n",
       "    </tr>\n",
       "    <tr>\n",
       "      <th>4</th>\n",
       "      <td>2011</td>\n",
       "      <td>59.2</td>\n",
       "      <td>275.0</td>\n",
       "      <td>71</td>\n",
       "      <td>0.01</td>\n",
       "      <td>7.097109</td>\n",
       "      <td>68.0</td>\n",
       "      <td>3013</td>\n",
       "      <td>17.2</td>\n",
       "      <td>97</td>\n",
       "      <td>68.0</td>\n",
       "      <td>7.87</td>\n",
       "      <td>68.0</td>\n",
       "      <td>0.1</td>\n",
       "      <td>63.537231</td>\n",
       "      <td>2978599.0</td>\n",
       "      <td>18.2</td>\n",
       "      <td>18.2</td>\n",
       "      <td>0.454</td>\n",
       "      <td>9.5</td>\n",
       "    </tr>\n",
       "  </tbody>\n",
       "</table>\n",
       "</div>"
      ],
      "text/plain": [
       "   Year  Life expectancy   Adult Mortality  infant deaths  Alcohol  \\\n",
       "0  2015              65.0            263.0             62     0.01   \n",
       "1  2014              59.9            271.0             64     0.01   \n",
       "2  2013              59.9            268.0             66     0.01   \n",
       "3  2012              59.5            272.0             69     0.01   \n",
       "4  2011              59.2            275.0             71     0.01   \n",
       "\n",
       "   percentage expenditure  Hepatitis B  Measles    BMI   under-five deaths   \\\n",
       "0               71.279624         65.0      1154   19.1                  83   \n",
       "1               73.523582         62.0       492   18.6                  86   \n",
       "2               73.219243         64.0       430   18.1                  89   \n",
       "3               78.184215         67.0      2787   17.6                  93   \n",
       "4                7.097109         68.0      3013   17.2                  97   \n",
       "\n",
       "   Polio  Total expenditure  Diphtheria    HIV/AIDS         GDP  Population  \\\n",
       "0    6.0               8.16         65.0        0.1  584.259210  33736494.0   \n",
       "1   58.0               8.18         62.0        0.1  612.696514    327582.0   \n",
       "2   62.0               8.13         64.0        0.1  631.744976  31731688.0   \n",
       "3   67.0               8.52         67.0        0.1  669.959000   3696958.0   \n",
       "4   68.0               7.87         68.0        0.1   63.537231   2978599.0   \n",
       "\n",
       "    thinness  1-19 years   thinness 5-9 years  \\\n",
       "0                   17.2                 17.3   \n",
       "1                   17.5                 17.5   \n",
       "2                   17.7                 17.7   \n",
       "3                   17.9                 18.0   \n",
       "4                   18.2                 18.2   \n",
       "\n",
       "   Income composition of resources  Schooling  \n",
       "0                            0.479       10.1  \n",
       "1                            0.476       10.0  \n",
       "2                            0.470        9.9  \n",
       "3                            0.463        9.8  \n",
       "4                            0.454        9.5  "
      ]
     },
     "execution_count": 53,
     "metadata": {},
     "output_type": "execute_result"
    }
   ],
   "source": [
    "who = who.drop(['Country', 'Status'], axis = 1)\n",
    "who.head()"
   ]
  },
  {
   "cell_type": "code",
   "execution_count": 54,
   "id": "45011d15",
   "metadata": {
    "scrolled": true
   },
   "outputs": [],
   "source": [
    "Y = who['Life expectancy ']\n",
    "X = who.drop(['Life expectancy '], axis = 1)"
   ]
  },
  {
   "cell_type": "code",
   "execution_count": 55,
   "id": "ac562011",
   "metadata": {},
   "outputs": [],
   "source": [
    "X_train, X_test, Y_train, Y_test = train_test_split(X, Y, test_size = 0.3, random_state = 0)"
   ]
  },
  {
   "cell_type": "code",
   "execution_count": 56,
   "id": "0c794ce9",
   "metadata": {},
   "outputs": [
    {
     "data": {
      "text/plain": [
       "((1154, 19), (495, 19), (1154,), (495,))"
      ]
     },
     "execution_count": 56,
     "metadata": {},
     "output_type": "execute_result"
    }
   ],
   "source": [
    "X_train.shape, X_test.shape, Y_train.shape, Y_test.shape"
   ]
  },
  {
   "cell_type": "code",
   "execution_count": 57,
   "id": "049b44f1",
   "metadata": {},
   "outputs": [],
   "source": [
    "from sklearn.linear_model import LinearRegression"
   ]
  },
  {
   "cell_type": "code",
   "execution_count": 58,
   "id": "32162739",
   "metadata": {},
   "outputs": [
    {
     "data": {
      "text/plain": [
       "LinearRegression(normalize=True)"
      ]
     },
     "execution_count": 58,
     "metadata": {},
     "output_type": "execute_result"
    }
   ],
   "source": [
    "lm = LinearRegression(fit_intercept=True, normalize=True, n_jobs=None)\n",
    "lm.fit(X_train, Y_train)"
   ]
  },
  {
   "cell_type": "code",
   "execution_count": 59,
   "id": "75036214",
   "metadata": {},
   "outputs": [
    {
     "name": "stdout",
     "output_type": "stream",
     "text": [
      "[60.03445915 75.95707665 71.37404124 55.56957207 62.0455559  83.67725485\n",
      " 49.83892642 61.77603032 42.35506524 73.70993531 75.82506562 74.49245026\n",
      " 78.12927895 70.62981862 83.80303177 45.2065939  46.33708905 68.8893\n",
      " 73.76986999 68.30783374 80.1661804  72.0049741  65.53834228 73.37407248\n",
      " 72.28298306 62.22000191 63.91914038 54.21307117 76.64857154 70.78719124\n",
      " 71.08549345 52.19135284 59.98143138 70.8813398  71.88504037 71.30789116\n",
      " 70.88456794 79.03334254 77.75594266 51.39338463 79.38943531 63.69818053\n",
      " 75.67068613 73.26662758 88.77663962 79.49473841 55.25435308 70.90821666\n",
      " 71.88216578 81.10926914 64.73114196 70.44402115 57.68305241 78.15422877\n",
      " 68.16445673 76.93683598 73.74435037 76.16882989 69.80148561 66.58002588\n",
      " 73.08073104 67.87769458 67.96296146 77.29384498 75.09855727 79.76294984\n",
      " 70.88462411 69.71953396 71.48574336 72.79832031 67.9385619  83.60456865\n",
      " 43.51750984 81.88347902 79.52380254 62.53668718 75.9682427  76.49830309\n",
      " 65.73516007 68.27884862 62.43699987 76.58874996 64.15161115 67.99577956\n",
      " 62.97897874 70.81121805 72.71830618 41.57906164 69.67754082 69.0210217\n",
      " 63.13181268 73.40439916 76.68799759 45.02358561 69.69731476 56.39583472\n",
      " 68.04257589 58.54923717 49.31081014 56.13937918 49.49463445 63.15153287\n",
      " 73.36147273 68.01295496 70.59051381 81.09122358 71.24327567 53.2550529\n",
      " 63.30143014 62.74768458 71.7438845  68.00663549 67.89152706 62.2357172\n",
      " 73.82997532 71.22630248 72.55740439 69.990219   70.54455814 69.79271483\n",
      " 75.34339766 74.12740861 56.13531418 75.90753394 70.08961765 66.0992622\n",
      " 81.52529345 68.40421877 70.62477793 75.05361608 56.33996038 74.54011535\n",
      " 77.93415473 75.03657551 74.06187676 78.24601016 77.94343992 69.55986053\n",
      " 82.02454411 63.07626946 71.42777445 60.55529717 73.85038136 64.29793306\n",
      " 71.47812422 82.793764   64.41966878 77.16376288 87.97285901 68.88202482\n",
      " 65.93630708 71.54590885 79.51571223 72.66316536 86.21852269 60.73404111\n",
      " 85.15446311 71.95003753 66.91502657 68.56378492 81.6140662  58.07464648\n",
      " 59.03882776 76.3275595  59.14287023 73.53836643 78.27405026 69.44438355\n",
      " 36.74601299 76.7737054  65.15648998 71.12358508 68.15871044 57.30184668\n",
      " 74.64203141 78.57006115 66.10929221 81.12562956 58.84664578 78.3058795\n",
      " 68.84903295 70.25588918 61.85449226 74.69274706 57.41337605 67.96326968\n",
      " 63.23215235 71.26541665 70.22664465 62.80245622 48.13964877 73.97007445\n",
      " 71.98042577 72.30159746 70.44512443 66.29542397 70.32096225 57.02655587\n",
      " 78.34825105 53.40968238 72.99244585 72.57584521 73.86139823 67.61448685\n",
      " 76.3320846  75.63503273 76.66029443 74.78000107 72.6321557  49.81572523\n",
      " 62.49613219 61.98627542 81.58565229 77.68345299 68.94313374 75.31203056\n",
      " 69.99028987 77.91919072 64.48962954 77.16603667 68.94168255 73.06969989\n",
      " 79.86697391 72.69637308 65.0670023  75.31434779 71.71770268 54.52358262\n",
      " 83.25906189 60.60210004 82.7332102  73.15031242 72.5884521  69.02871675\n",
      " 80.78162931 59.73541643 70.66032141 78.86779499 67.38354805 81.05813408\n",
      " 57.68815644 81.51879213 60.20346753 74.16124009 70.98138682 65.31876372\n",
      " 75.95519309 75.40989894 77.511911   76.92882359 74.5083984  67.91157094\n",
      " 81.62369201 57.83550955 76.57022747 70.55399002 75.25911452 68.89149134\n",
      " 73.17049844 71.67437934 77.20333416 64.60685666 70.37291332 68.24492692\n",
      " 81.47388539 74.86409027 70.51555424 76.98696003 54.08752821 73.16969808\n",
      " 72.66564357 70.81484168 85.09622166 59.0337948  48.93866985 72.03920508\n",
      " 74.33041083 61.70512674 68.63773412 73.23732538 71.84479656 64.20984935\n",
      " 68.30807108 67.89062521 75.34828818 76.40196162 73.96364363 73.24525818\n",
      " 72.00661755 69.7845632  77.18692673 55.25156303 70.18284497 72.26309531\n",
      " 62.155974   53.78344547 77.11960637 72.09741038 74.40409162 58.4390093\n",
      " 51.82047773 72.5206815  59.09568172 71.99039533 73.80667535 72.32360381\n",
      " 76.44966405 69.03823913 61.4405143  79.11211309 71.09918909 65.12592196\n",
      " 61.68735033 74.71374696 66.80299607 66.44636667 72.99794625 70.37107536\n",
      " 59.86595855 78.78218251 73.30647452 79.59470492 74.21823974 44.08949052\n",
      " 79.14383804 71.46457745 63.21757516 76.19597044 76.53017584 56.1215757\n",
      " 62.97543622 71.32105652 73.14225331 76.67448151 69.42176732 69.62013512\n",
      " 63.05410854 56.95749972 64.05326282 73.79168959 68.87703428 75.12023116\n",
      " 79.89397896 75.33039996 69.94978312 62.985915   75.03504511 70.94100374\n",
      " 72.23329347 58.2228585  72.56705205 49.83292133 67.90927453 75.50486554\n",
      " 72.13323879 64.82437964 66.75633718 74.95433202 69.60953673 73.16458013\n",
      " 80.92914338 63.70715964 72.78179787 71.55942335 68.01204691 70.56199443\n",
      " 71.96470164 75.16873364 62.96408435 76.18892375 77.63951933 53.06547488\n",
      " 66.95068646 56.88048613 76.75191691 84.5627581  54.23582409 59.75709223\n",
      " 71.90281028 64.72265712 66.2642992  78.76876915 74.39402865 44.17050905\n",
      " 73.61738399 69.56723898 55.78635411 66.07883163 76.67111299 82.76656897\n",
      " 72.83817282 77.50742904 58.01821696 60.20432785 68.96594917 74.9115942\n",
      " 55.1974681  74.94884211 72.69552001 59.50853808 68.01857052 69.81456549\n",
      " 67.72112995 78.95479362 67.26849595 68.50271284 75.78015349 77.91583879\n",
      " 69.05563313 66.50495163 72.59520739 80.73622603 68.7008618  73.037485\n",
      " 73.22976925 72.84398664 55.09509603 53.04154225 70.61242659 71.86030345\n",
      " 63.47871797 74.58090054 79.62173306 52.16567918 79.66251006 80.1503699\n",
      " 76.25874763 72.24300376 72.01957125 81.68665934 79.15047907 72.42973961\n",
      " 57.63715175 73.04406409 73.59954824 75.74889504 73.23071515 76.4927038\n",
      " 58.70163767 64.56697475 61.4970432  62.42410693 75.80393448 70.19112872\n",
      " 73.52747138 68.80154998 69.90050692 69.82361236 71.57295784 78.74265768\n",
      " 72.80510751 73.87727761 73.8845631  75.33042808 61.76748348 71.53050051\n",
      " 67.15066914 74.32987105 71.41630671 60.42519836 56.44870239 76.81692267\n",
      " 71.26397925 75.54221337 57.68513792 79.20207315 67.91346187 75.53988461\n",
      " 65.4150083  70.47804827 74.39288391 62.59898295 75.13744132 69.09494185\n",
      " 81.17478923 76.78518366 82.57734696 76.60786537 66.65369103 72.62810884\n",
      " 59.54218933 60.0540558  68.85922032 71.16348818 60.1225024  70.70373731\n",
      " 63.36103958 74.51942999 69.96349643 75.60621704 79.16211505 72.4527596\n",
      " 74.02993274 63.14042753 59.42835643]\n"
     ]
    }
   ],
   "source": [
    "Y_predict = lm.predict(X_test)\n",
    "print(Y_predict)"
   ]
  },
  {
   "cell_type": "code",
   "execution_count": 61,
   "id": "46e6e4b3",
   "metadata": {},
   "outputs": [
    {
     "data": {
      "text/plain": [
       "Year                              -0.129\n",
       "Adult Mortality                   -0.017\n",
       "infant deaths                      0.072\n",
       "Alcohol                           -0.111\n",
       "percentage expenditure             0.000\n",
       "Hepatitis B                        0.001\n",
       "Measles                           -0.000\n",
       " BMI                               0.044\n",
       "under-five deaths                 -0.055\n",
       "Polio                              0.004\n",
       "Total expenditure                  0.075\n",
       "Diphtheria                         0.014\n",
       " HIV/AIDS                         -0.445\n",
       "GDP                                0.000\n",
       "Population                        -0.000\n",
       " thinness  1-19 years              0.020\n",
       " thinness 5-9 years               -0.030\n",
       "Income composition of resources    9.752\n",
       "Schooling                          0.951\n",
       "dtype: float64"
      ]
     },
     "execution_count": 61,
     "metadata": {},
     "output_type": "execute_result"
    }
   ],
   "source": [
    "import numpy as np\n",
    "coef = pd.Series(data = np.round(lm.coef_,3), index = X.columns)\n",
    "coef #선형회귀 방정식은 다음과 같은 계수를 가진다"
   ]
  },
  {
   "cell_type": "code",
   "execution_count": 63,
   "id": "54f37881",
   "metadata": {},
   "outputs": [],
   "source": [
    "import matplotlib.pyplot as plt\n",
    "import seaborn as sns"
   ]
  },
  {
   "cell_type": "code",
   "execution_count": 64,
   "id": "e01a9b01",
   "metadata": {},
   "outputs": [
    {
     "data": {
      "text/plain": [
       "Text(0.5, 1.0, 'Original vs Predicted')"
      ]
     },
     "execution_count": 64,
     "metadata": {},
     "output_type": "execute_result"
    },
    {
     "data": {
      "image/png": "[encoded data removed]",
      "text/plain": [
       "<Figure size 432x288 with 1 Axes>"
      ]
     },
     "metadata": {
      "needs_background": "light"
     },
     "output_type": "display_data"
    }
   ],
   "source": [
    "plt.scatter(Y_test, Y_predict)\n",
    "plt.xlabel(\"Original Life expectancy\")\n",
    "plt.ylabel(\"Predicted Life expectancy\")\n",
    "plt.title(\"Original vs Predicted\")"
   ]
  },
  {
   "cell_type": "code",
   "execution_count": 66,
   "id": "8d9ff1b4",
   "metadata": {},
   "outputs": [
    {
     "name": "stdout",
     "output_type": "stream",
     "text": [
      "12.948225426237833\n"
     ]
    }
   ],
   "source": [
    "import sklearn\n",
    "mse = sklearn.metrics.mean_squared_error(Y_test, Y_predict)\n",
    "print(mse)"
   ]
  },
  {
   "cell_type": "code",
   "execution_count": null,
   "id": "c7aa3d63",
   "metadata": {},
   "outputs": [],
   "source": []
  }
 ],
 "metadata": {
  "kernelspec": {
   "display_name": "Python 3",
   "language": "python",
   "name": "python3"
  },
  "language_info": {
   "codemirror_mode": {
    "name": "ipython",
    "version": 3
   },
   "file_extension": ".py",
   "mimetype": "text/x-python",
   "name": "python",
   "nbconvert_exporter": "python",
   "pygments_lexer": "ipython3",
   "version": "3.8.9"
  }
 },
 "nbformat": 4,
 "nbformat_minor": 5
}
